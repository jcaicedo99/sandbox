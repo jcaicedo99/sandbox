{
 "cells": [
  {
   "cell_type": "code",
   "execution_count": 1,
   "metadata": {},
   "outputs": [
    {
     "name": "stdout",
     "output_type": "stream",
     "text": [
      "(True, [])\n",
      "(True, [])\n"
     ]
    },
    {
     "data": {
      "text/plain": [
       "(False,\n",
       " [{'column_name': 'col_name',\n",
       "   'required': True,\n",
       "   'data_typ': 'integer',\n",
       "   'format': ''}])"
      ]
     },
     "execution_count": 1,
     "metadata": {},
     "output_type": "execute_result"
    }
   ],
   "source": [
    "import sys\n",
    "\n",
    "MODULE_FULL_PATH = 'd:/GitHUB_Sandbox'\n",
    "\n",
    "sys.path.insert(1, MODULE_FULL_PATH)\n",
    "\n",
    "from sandbox.spark_etl.common.data_validator.source_schema import source_schema\n",
    "\n",
    "\n",
    "# source_schema([]).is_valid_list([{\"column_name\":\"col_name\",\"required\":True,\"data_type\":\"integer\",\"format\":\"\"}])\n",
    "source_schema([]).is_valid_list([{\"column_name\":\"col_name\",\"required\":True,\"data_typ\":\"integer\",\"format\":\"\"}])"
   ]
  },
  {
   "cell_type": "code",
   "execution_count": null,
   "metadata": {},
   "outputs": [],
   "source": []
  }
 ],
 "metadata": {
  "interpreter": {
   "hash": "ed6e3d2f1dfeb78c40517b049f5ad46a20c2ea8d4a696d687d19c92f25406a76"
  },
  "kernelspec": {
   "display_name": "Python 3.7.4 64-bit ('python_etl_utils': venv)",
   "name": "python3"
  },
  "language_info": {
   "codemirror_mode": {
    "name": "ipython",
    "version": 3
   },
   "file_extension": ".py",
   "mimetype": "text/x-python",
   "name": "python",
   "nbconvert_exporter": "python",
   "pygments_lexer": "ipython3",
   "version": "3.7.4"
  },
  "orig_nbformat": 4
 },
 "nbformat": 4,
 "nbformat_minor": 2
}
