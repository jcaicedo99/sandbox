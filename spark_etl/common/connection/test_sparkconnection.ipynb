{
 "cells": [
  {
   "cell_type": "code",
   "execution_count": 22,
   "metadata": {},
   "outputs": [],
   "source": [
    "import sys\n",
    "\n",
    "MODULE_FULL_PATH = 'd:/GitHUB_Sandbox'\n",
    "\n",
    "sys.path.insert(1, MODULE_FULL_PATH)\n",
    "\n",
    "from sandbox.spark_etl.common.connection.sparkconnection import sparkconnection\n",
    "\n",
    "import findspark\n",
    "findspark.init() \n",
    "\n",
    "ss = sparkconnection().get_session(master=\"local[*]\",session_name=\"mytest\",connection_settings={\"spark.executor.cores\": 2,\"spark.executor.memory\": \"2g\"})"
   ]
  },
  {
   "cell_type": "code",
   "execution_count": 25,
   "metadata": {},
   "outputs": [
    {
     "name": "stdout",
     "output_type": "stream",
     "text": [
      "[Row(id=0)]\n",
      "3.0.3\n"
     ]
    }
   ],
   "source": [
    "\n",
    "print(ss.range(1).collect())\n",
    "print(ss.version)\n",
    "\n",
    "\n"
   ]
  },
  {
   "cell_type": "code",
   "execution_count": 1,
   "metadata": {},
   "outputs": [
    {
     "ename": "NameError",
     "evalue": "name 'ss' is not defined",
     "output_type": "error",
     "traceback": [
      "\u001b[1;31m---------------------------------------------------------------------------\u001b[0m",
      "\u001b[1;31mNameError\u001b[0m                                 Traceback (most recent call last)",
      "\u001b[1;32m~\\AppData\\Local\\Temp\\ipykernel_9664\\3603783111.py\u001b[0m in \u001b[0;36m<module>\u001b[1;34m\u001b[0m\n\u001b[1;32m----> 1\u001b[1;33m \u001b[0mss\u001b[0m\u001b[1;33m.\u001b[0m\u001b[0mstop\u001b[0m\u001b[1;33m(\u001b[0m\u001b[1;33m)\u001b[0m\u001b[1;33m\u001b[0m\u001b[1;33m\u001b[0m\u001b[0m\n\u001b[0m",
      "\u001b[1;31mNameError\u001b[0m: name 'ss' is not defined"
     ]
    }
   ],
   "source": [
    "ss.stop()"
   ]
  }
 ],
 "metadata": {
  "interpreter": {
   "hash": "ed6e3d2f1dfeb78c40517b049f5ad46a20c2ea8d4a696d687d19c92f25406a76"
  },
  "kernelspec": {
   "display_name": "Python 3.7.4 64-bit ('python_etl_utils': venv)",
   "name": "python3"
  },
  "language_info": {
   "codemirror_mode": {
    "name": "ipython",
    "version": 3
   },
   "file_extension": ".py",
   "mimetype": "text/x-python",
   "name": "python",
   "nbconvert_exporter": "python",
   "pygments_lexer": "ipython3",
   "version": "3.7.4"
  },
  "orig_nbformat": 4
 },
 "nbformat": 4,
 "nbformat_minor": 2
}
