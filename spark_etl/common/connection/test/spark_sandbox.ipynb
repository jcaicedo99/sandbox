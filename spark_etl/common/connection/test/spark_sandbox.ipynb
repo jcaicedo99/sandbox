{
 "cells": [
  {
   "cell_type": "code",
   "execution_count": 2,
   "metadata": {},
   "outputs": [],
   "source": [
    "import sys\n",
    "\n",
    "MODULE_FULL_PATH = 'd:/GitHUB_Sandbox'\n",
    "\n",
    "sys.path.insert(1, MODULE_FULL_PATH)\n",
    "\n",
    "import findspark\n",
    "findspark.init()\n",
    "\n",
    "from sandbox.spark_etl.common.connection.sparkconnection import sparkconnection\n",
    "\n",
    "master=\"local[*]\"\n",
    "session_name=\"test_local_sparkconnection\"\n",
    "settings = {\"spark.executor.cores\": 2,\"spark.executor.memory\": \"2g\"}\n",
    "       \n",
    "spark = sparkconnection().get_session(master=master,session_name=session_name,connection_settings=settings)\n",
    "\n",
    "\n",
    "\n"
   ]
  },
  {
   "cell_type": "code",
   "execution_count": 3,
   "metadata": {},
   "outputs": [
    {
     "name": "stdout",
     "output_type": "stream",
     "text": [
      "+---------+\n",
      "| some_arr|\n",
      "+---------+\n",
      "|[a, b, c]|\n",
      "|[x, y, z]|\n",
      "+---------+\n",
      "\n"
     ]
    }
   ],
   "source": [
    "df = spark.createDataFrame(\n",
    "    [([\"a\", \"b\", \"c\"],), ([\"x\", \"y\", \"z\"],)], [\"some_arr\"]\n",
    ")\n",
    "df.show()\n"
   ]
  },
  {
   "cell_type": "code",
   "execution_count": 29,
   "metadata": {},
   "outputs": [
    {
     "name": "stdout",
     "output_type": "stream",
     "text": [
      "+---------+-----+\n",
      "| some_arr|has_b|\n",
      "+---------+-----+\n",
      "|[a, b, c]| true|\n",
      "|[x, y, z]|false|\n",
      "+---------+-----+\n",
      "\n"
     ]
    }
   ],
   "source": [
    "from pyspark.sql import functions as F\n",
    "from pyspark.sql import udf\n",
    "from pyspark.sql.types import BooleanType\n",
    "\n",
    "\n",
    "# @udf(returnType=BooleanType()) \n",
    "def equals_b(l):\n",
    "    return \"b\" in l\n",
    "\n",
    "equals_b_udf = F.udf(lambda m: equals_b(m),BooleanType())\n",
    "# equals_b_udf = udf(lambda x : True,BooleanType())\n",
    "\n",
    "res = df.withColumn(\"has_b\", equals_b_udf(F.col(\"some_arr\")))\n",
    "res.show()"
   ]
  }
 ],
 "metadata": {
  "interpreter": {
   "hash": "ed6e3d2f1dfeb78c40517b049f5ad46a20c2ea8d4a696d687d19c92f25406a76"
  },
  "kernelspec": {
   "display_name": "Python 3.7.4 64-bit ('python_etl_utils': venv)",
   "name": "python3"
  },
  "language_info": {
   "codemirror_mode": {
    "name": "ipython",
    "version": 3
   },
   "file_extension": ".py",
   "mimetype": "text/x-python",
   "name": "python",
   "nbconvert_exporter": "python",
   "pygments_lexer": "ipython3",
   "version": "3.7.4"
  },
  "orig_nbformat": 4
 },
 "nbformat": 4,
 "nbformat_minor": 2
}
