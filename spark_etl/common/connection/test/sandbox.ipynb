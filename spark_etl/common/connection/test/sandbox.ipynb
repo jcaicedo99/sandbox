{
 "cells": [
  {
   "cell_type": "code",
   "execution_count": 31,
   "metadata": {},
   "outputs": [
    {
     "name": "stdout",
     "output_type": "stream",
     "text": [
      "('varchar', None)\n",
      "('decimal', '20,4')\n"
     ]
    }
   ],
   "source": [
    "import re\n",
    "\n",
    "val = \"varchar\"\n",
    "z = re.match(r\"(\\w+)(?=\\(([0-9]{1,4})\\))?\",val)\n",
    "print(z.groups())\n",
    "\n",
    "val = \"decimal(20,4)\"\n",
    "z = re.match(r\"(\\w+)(?=\\(([0-9]{1,2},[0-9]{1,2})\\))\",val)\n",
    "print(z.groups())\n"
   ]
  },
  {
   "cell_type": "code",
   "execution_count": null,
   "metadata": {},
   "outputs": [],
   "source": []
  }
 ],
 "metadata": {
  "interpreter": {
   "hash": "ed6e3d2f1dfeb78c40517b049f5ad46a20c2ea8d4a696d687d19c92f25406a76"
  },
  "kernelspec": {
   "display_name": "Python 3.7.4 64-bit ('python_etl_utils': venv)",
   "name": "python3"
  },
  "language_info": {
   "codemirror_mode": {
    "name": "ipython",
    "version": 3
   },
   "file_extension": ".py",
   "mimetype": "text/x-python",
   "name": "python",
   "nbconvert_exporter": "python",
   "pygments_lexer": "ipython3",
   "version": "3.7.4"
  },
  "orig_nbformat": 4
 },
 "nbformat": 4,
 "nbformat_minor": 2
}
